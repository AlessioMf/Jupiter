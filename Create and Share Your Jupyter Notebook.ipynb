{
  "metadata": {
    "kernelspec": {
      "name": "python",
      "display_name": "Python (Pyodide)",
      "language": "python"
    },
    "language_info": {
      "codemirror_mode": {
        "name": "python",
        "version": 3
      },
      "file_extension": ".py",
      "mimetype": "text/x-python",
      "name": "python",
      "nbconvert_exporter": "python",
      "pygments_lexer": "ipython3",
      "version": "3.8"
    }
  },
  "nbformat_minor": 4,
  "nbformat": 4,
  "cells": [
    {
      "cell_type": "markdown",
      "source": "# Create and Share Your Jupyter Notebook",
      "metadata": {}
    },
    {
      "cell_type": "markdown",
      "source": "### This is the introduction of the jupiter notebook",
      "metadata": {}
    },
    {
      "cell_type": "markdown",
      "source": "#### Data Science Languages\r\n\r\n1. **Python:** Widely used for data manipulation, machine learning, statistical analysis, and visualization. Known for its extensive libraries like Pandas, NumPy, and Scikit-learn.\r\n\r\n2. **R:** Commonly used in statistical analysis, data visualization, and for its comprehensive range of statistical packages.\r\n\r\n3. **SQL (Structured Query Language):** Essential for managing and querying relational databases, often used in data retrieval and data cleaning.\r\n\r\n4. **Julia:** Gaining popularity for its speed in numerical and scientific computing, often used in data analysis and high-performance computing.\r\n\r\n5. **Scala:** Frequently used in big data processing, especially with Apache Spark, due to its functional programming capabilities.\r\n",
      "metadata": {}
    },
    {
      "cell_type": "markdown",
      "source": "#### Data Science Libraries\r\n\r\nData science relies on a variety of libraries within programming languages to facilitate analysis, machine learning, and visualization. Below is an ordered list of essential data science libraries:\r\n\r\n1. **Pandas (Python):** A powerful data manipulation and analysis library offering data structures and operations for manipulating numerical tables and time series.\r\n\r\n2. **NumPy (Python):** Fundamental package for numerical computing in Python, providing support for arrays, matrices, and mathematical functions.\r\n\r\n3. **Scikit-learn (Python):** A versatile machine learning library that includes various algorithms for classification, regression, clustering, and more.\r\n\r\n4. **Matplotlib (Python):** Widely used for creating static, interactive, and animated visualizations in Python.\r\n\r\n5. **TensorFlow (Python):** A popular open-source machine learning framework developed by Google for building and training neural network models.\r\n",
      "metadata": {}
    },
    {
      "cell_type": "markdown",
      "source": "#### Data Science Tools\r\n\r\n| Tool                | Description                                                                                                     |\r\n|---------------------|---------------------------------------------------------------------------------------------------------------     |\r\n| **Tableau**         | Data visualization tool enabling users to create interactive and shareable dashboards and visual analytics.      |\r\n| **Jupyter Notebook**| An open-source web application allowing creation and sharing of documents with live code, equations, and more.  |\r\n| **Excel**           | Widely used for data entry, basic analysis, and visualization due to its user-friendly interface and features.   |\r\n| **Power BI**        | Business analytics tool used for data visualization, sharing insights, and creating interactive reports.        |\r\n| **SAS**            | Software suite for advanced analytics, business intelligence, data management, and predictive analytics.        |\r\n| **Apache Spark**    | Fast and distributed computing system, commonly used for big data processing and analytics.                    |\r\n| **Hadoop**          | Framework for distributed storage and processing of large datasets across clusters of computers.                |",
      "metadata": {}
    },
    {
      "cell_type": "markdown",
      "source": "#### Arithmetic Expressions\n\nArithmetic expressions in mathematics represent calculations involving numbers, variables, and mathematical operators. These expressions can include addition, subtraction, multiplication, division, exponentiation, and more. They follow the conventional rules of mathematical operations, such as the order of operations (PEMDAS/BODMAS) to determine the sequence of evaluating operations within an expression.",
      "metadata": {}
    },
    {
      "cell_type": "code",
      "source": "# Define numbers to be multiplied and added\nnumber1 = 5\nnumber2 = 3\n\n# Perform multiplication and addition\nmultiplication_result = number1 * number2\naddition_result = number1 + number2\n\n# Display the results\nprint(\"Multiplication result:\", multiplication_result)\nprint(\"Addition result:\", addition_result)",
      "metadata": {
        "trusted": true
      },
      "outputs": [
        {
          "name": "stdout",
          "text": "Multiplication result: 15\nAddition result: 8\n",
          "output_type": "stream"
        }
      ],
      "execution_count": 6
    },
    {
      "cell_type": "code",
      "source": "# Define the number of minutes\nminutes = 150\n\n# Convert minutes to hours\nhours = minutes / 60\n\n# Display the conversion result\nprint(f\"{minutes} minutes is equal to {hours} hours\")",
      "metadata": {
        "trusted": true
      },
      "outputs": [
        {
          "name": "stdout",
          "text": "150 minutes is equal to 2.5 hours\n",
          "output_type": "stream"
        }
      ],
      "execution_count": 7
    },
    {
      "cell_type": "markdown",
      "source": "#### Programming Concepts\n\nProgramming involves various fundamental concepts that aid in understanding and writing code. Here are some key programming concepts:\n\n- **Variables:** Symbols that represent values in a program, allowing data storage and manipulation.\n- **Control Structures:** Constructs like loops and conditionals used to control the flow of execution in a program.\n- **Functions:** Blocks of reusable code designed to perform a specific task.\n- **Data Types:** Classifications of data that determine the type and operations that can be performed on them.\n- **Operators:** Symbols used to perform operations on variables and values.\n- **Conditional Statements:** Statements that execute different actions based on specific conditions.\n- **Loops:** Structures that repeatedly execute a block of code until a certain condition is met.",
      "metadata": {}
    },
    {
      "cell_type": "markdown",
      "source": "### Author Information\n\n- **Author:** Alessio Maffei\n- **Date:** 15/12/2023\n",
      "metadata": {}
    },
    {
      "cell_type": "code",
      "source": "",
      "metadata": {
        "trusted": true
      },
      "outputs": [],
      "execution_count": null
    }
  ]
}